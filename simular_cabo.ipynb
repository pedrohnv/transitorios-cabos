{
 "cells": [
  {
   "cell_type": "markdown",
   "metadata": {},
   "source": [
    "# Simular Cabo Umbilical"
   ]
  },
  {
   "cell_type": "markdown",
   "metadata": {},
   "source": [
    "Este Jupyter Notebook (kernel `julia`) prepara e roda alguns casos de simulação. O primeiro passo é importar os módulos e arquivos auxiliares."
   ]
  },
  {
   "cell_type": "code",
   "execution_count": 1,
   "metadata": {},
   "outputs": [],
   "source": [
    "include(\"param_cabo.jl\");\n",
    "\n",
    "import Combinatorics.combinations"
   ]
  },
  {
   "cell_type": "code",
   "execution_count": 2,
   "metadata": {},
   "outputs": [
    {
     "name": "stdout",
     "output_type": "stream",
     "text": [
      "Threads.nthreads() = 12\n"
     ]
    },
    {
     "data": {
      "text/plain": [
       "12"
      ]
     },
     "metadata": {},
     "output_type": "display_data"
    }
   ],
   "source": [
    "@show Threads.nthreads()"
   ]
  },
  {
   "cell_type": "markdown",
   "metadata": {},
   "source": [
    "## Parâmetros do umbilical"
   ]
  },
  {
   "cell_type": "markdown",
   "metadata": {},
   "source": [
    "Os condutores e índices correspondentes estão ilustrados na figura seguinte:\n",
    "\n",
    "<img src=\"umbilical_condutores.png\" alt=\"umbilical_condutores\" width=\"600\"/>"
   ]
  },
  {
   "cell_type": "code",
   "execution_count": 3,
   "metadata": {},
   "outputs": [
    {
     "data": {
      "text/plain": [
       "21"
      ]
     },
     "metadata": {},
     "output_type": "display_data"
    }
   ],
   "source": [
    "## Geometria do umbilical PT\n",
    "Lc = 2.5e3  # comprimento total [m]\n",
    "rc = 1e-3 * ([9.6, 17.054, 18.054, 19.50])  # raios dos cabos SC [m]: condutor central, isolante, blindagem e isolante externo\n",
    "ra = 1e-3 * ([48, 59, 65])  # raios da armadura [m]: interno, externo, capa\n",
    "nx = 2  # número de condutores \"ativos\" em cada cabo SC (single core)\n",
    "\n",
    "# distância do centro do umbilical ao centro das veias\n",
    "d01 = rc[4] / cos(deg2rad(30))\n",
    "d02 = d01\n",
    "di = [d01, d02, d02]\n",
    "theta_jk = (2 * pi) / 3  # ângulo entre cabos do umbilical\n",
    "\n",
    "# permissividades elétricas\n",
    "epsr_c = 3.31  # condutor central\n",
    "epsr_b = 2.3  # blindagem, jaqueta da veia\n",
    "epsr_a = 10  # última camada, que envolve a armadura\n",
    "\n",
    "# resistividades elétricas [Ohm.m]\n",
    "rho_c = 1.7241e-8  # condutor central\n",
    "rho_b = 2.2e-7  # blindagem, jaqueta da veia\n",
    "rho_a = 2.86e-8  # armadura\n",
    "\n",
    "mur_a = 300  # permeabilidade magnética relativa da armadura\n",
    "sig_s = 5.0  # condutividade elétrica do mar [S/m]\n",
    "eps_s = 81.0  # permissividade elétrica relativa do mar\n",
    "\n",
    "fases = [1, 3, 5]  # não alterar\n",
    "blindagens = [2, 4, 6]  # não alterar\n",
    "armadura = 7  # não alterar\n",
    "condutores = [fases; blindagens; armadura]\n",
    "nc1 = length(condutores)  # número de condutores\n",
    "nc2 = nc1 * 2\n",
    "nome_condutores = sort(Dict([\n",
    "    [fases[i] => \"fase_$(i)\" for i in eachindex(fases)];\n",
    "    [blindagens[i] => \"blindagem_$(i)\" for i in eachindex(blindagens)];\n",
    "    [armadura => \"armadura\"]\n",
    "]))\n",
    "pares_falhas = collect(combinations(condutores, 2))\n",
    "num_pares_falhas = length(pares_falhas)"
   ]
  },
  {
   "cell_type": "markdown",
   "metadata": {},
   "source": [
    "## Parâmetros da simulação"
   ]
  },
  {
   "cell_type": "markdown",
   "metadata": {},
   "source": [
    "Por causa da transformada numérica de Laplace utilizada, 20% dos tempos finais serão lixo numérico. Além disto, para minimizar o _zero padding_ (e oscilação numérica) da transformada de Fourier (FFTW), utilize um número de passos no tempo que seja potência de 2."
   ]
  },
  {
   "cell_type": "code",
   "execution_count": 4,
   "metadata": {},
   "outputs": [
    {
     "data": {
      "text/plain": [
       "1.0e6"
      ]
     },
     "metadata": {},
     "output_type": "display_data"
    }
   ],
   "source": [
    "## Cálculo dos parâmetros e matrizes\n",
    "## Tempo\n",
    "dt = 2.5e-9  # passo no tempo [s]\n",
    "# Usar número nt que seja potência de 2, para diminuir lixo numérico do zero-padding da FFT\n",
    "nt = 1024 * 98  # número de passos no tempo\n",
    "tempo = range(0, step=dt, length=nt)\n",
    "tmax = tempo[end]\n",
    "tempo_abre = 10e-6  # [s] que a chave desconecta a fonte do cabo\n",
    "nt_trunc = Int(ceil(nt * 0.80))  # 20% dos tempos finais é lixo numérico\n",
    "tmax_trunc = tempo[nt_trunc]  # tempo [s] final que será salvo\n",
    "\n",
    "comprimentos = [0.5, 1.0] .* Lc\n",
    "arquivo_matrizes = \"umbilical_tripolar.h5\"\n",
    "precalc_matrizes(arquivo_matrizes, comprimentos, tmax, nt,\n",
    "                    rc, ra, rho_a, rho_b, rho_c, epsr_a, epsr_b, epsr_c,\n",
    "                    mur_a, theta_jk, di, sig_s, eps_s, nx)\n",
    "#\n",
    "v_fonte_t = ones(nt)\n",
    "R_chave = 50.0  # [Ω]\n",
    "R_curto = 1e-6  # [Ω], tendência de causar instabilidade numérica para valores muito pequenos"
   ]
  },
  {
   "cell_type": "markdown",
   "metadata": {},
   "source": [
    "## Circuito"
   ]
  },
  {
   "cell_type": "markdown",
   "metadata": {},
   "source": [
    "O circuito a ser simulado está ilustrado na figura seguinte. Ele consiste de dois segmentos de cabos (parâmetros distribuídos) com dois vetores de resistências: `R_falha_serie` que insere uma resistência em série nos condutores, indivudalmente, no ponto da falha, e `R_falha_shunt` que conecta as fases para suas blindagens e todas as blindagens entre si e estas para a armadura. Um valor negativo de `R_falha_serie[i]` significa sem falha série (curto-circuito) no condutor `i` e `R_falha_shunt[k]` significa que não há falha (resistência infinita) entre o par `k`.\n",
    "\n",
    "O circuito de injeção consiste numa fonte de tensão em série com uma resistência `R_chave` e uma chave normal fechada que abre no tempo `tempo_abre`. Esse chaveamento é necessário, pois do contrário a fonte de tensão continuaria a forçar um valor no terminal, independentemente do valor de `R_chave`. Depois da chave há um vetor de resistências `R_emissor_shunt` que permanece conectada nos terminais emissor (excitação) durante toda a simulação. Um valor negativo de `R_emissor_shunt[i]` significa que não há resistência conectada no terminal `i`, isto é, equivale a uma resistência infinita.\n",
    "\n",
    "Podem ser colocados um número arbitrário de segmentos de cabo. A falha é inserida no lado receptor (direita) do segmento correspondente à variável `segmento_falha`. O vetor booleano `aterrar_receptor` controla se o receptor de cada segmento tem as blindagens e armadura aterradas ou não.\n",
    "\n",
    "<img src=\"circuito_umbilical.png\" alt=\"circuito_umbilical\" width=\"1000\"/>\n",
    "\n",
    "O bloco seguinte dá a correspondência entre o vetor `R_falha_shunt` e os pares de condutores."
   ]
  },
  {
   "cell_type": "code",
   "execution_count": 8,
   "metadata": {},
   "outputs": [
    {
     "name": "stdout",
     "output_type": "stream",
     "text": [
      "Correspondência entre R_falha_shunt e par de condutores:\n",
      "R_falha_shunt[1] => fase_1 para fase_2\n",
      "R_falha_shunt[2] => fase_1 para fase_3\n",
      "R_falha_shunt[3] => fase_1 para blindagem_1\n",
      "R_falha_shunt[4] => fase_1 para blindagem_2\n",
      "R_falha_shunt[5] => fase_1 para blindagem_3\n",
      "R_falha_shunt[6] => fase_1 para armadura\n",
      "R_falha_shunt[7] => fase_2 para fase_3\n",
      "R_falha_shunt[8] => fase_2 para blindagem_1\n",
      "R_falha_shunt[9] => fase_2 para blindagem_2\n",
      "R_falha_shunt[10] => fase_2 para blindagem_3\n",
      "R_falha_shunt[11] => fase_2 para armadura\n",
      "R_falha_shunt[12] => fase_3 para blindagem_1\n",
      "R_falha_shunt[13] => fase_3 para blindagem_2\n",
      "R_falha_shunt[14] => fase_3 para blindagem_3\n",
      "R_falha_shunt[15] => fase_3 para armadura\n",
      "R_falha_shunt[16] => blindagem_1 para blindagem_2\n",
      "R_falha_shunt[17] => blindagem_1 para blindagem_3\n",
      "R_falha_shunt[18] => blindagem_1 para armadura\n",
      "R_falha_shunt[19] => blindagem_2 para blindagem_3\n",
      "R_falha_shunt[20] => blindagem_2 para armadura\n",
      "R_falha_shunt[21] => blindagem_3 para armadura\n"
     ]
    }
   ],
   "source": [
    "println(\"Correspondência entre R_falha_shunt e par de condutores:\")\n",
    "for (i, pf) in enumerate(pares_falhas)\n",
    "    c1 = nome_condutores[pf[1]]\n",
    "    c2 = nome_condutores[pf[2]]\n",
    "    println(\"R_falha_shunt[$(i)] => $(c1) para $(c2)\")\n",
    "end"
   ]
  },
  {
   "cell_type": "markdown",
   "metadata": {},
   "source": [
    "# Rotina Principal"
   ]
  },
  {
   "cell_type": "markdown",
   "metadata": {},
   "source": [
    "Pré-cálculo das matrizes de admitância nodal $Y_N$ dos segmentos. Resultados salvos em um arquivo HDF5."
   ]
  },
  {
   "cell_type": "code",
   "execution_count": null,
   "metadata": {},
   "outputs": [],
   "source": [
    "comprimentos = [Lc]\n",
    "precalc_matrizes(\"umbilical_tripolar.h5\", comprimentos, tmax, nt,\n",
    "                 rc, ra, rho_a, rho_b, rho_c, epsr_a, epsr_b, epsr_c,\n",
    "                 mur_a, theta_jk, di, sig_s, eps_s, nx)"
   ]
  },
  {
   "cell_type": "markdown",
   "metadata": {},
   "source": [
    "Carregar as matrizes $Y_N$ dos segmentos da simulação."
   ]
  },
  {
   "cell_type": "code",
   "execution_count": null,
   "metadata": {},
   "outputs": [],
   "source": [
    "comprimentos = [Lc/2, Lc/2]\n",
    "num_segmentos = length(comprimentos)\n",
    "sk, _ = laplace(ones(nt), tmax, nt)\n",
    "nf = length(sk)  # número de frequências\n",
    "yn_segmentos = zeros(ComplexF64, (nc2, nc2, nf, num_segmentos))\n",
    "for k = 1:num_segmentos\n",
    "    L1 = comprimentos[k]\n",
    "    nome = \"yn_\" * string(round(L1, sigdigits=2))\n",
    "    yn_segmentos[:,:,:,k] .= reshape(h5read(arquivo_matrizes, nome), (nc2, nc2, nf))\n",
    "end"
   ]
  },
  {
   "cell_type": "code",
   "execution_count": null,
   "metadata": {},
   "outputs": [],
   "source": [
    "R_emissor_shunt = fill(-1.0, nc1)  # tudo negativo: resistência infinita\n",
    "R_falha_shunt = fill(-1.0, num_pares_falhas)  # tudo negativo: resistência infinita\n",
    "R_falha_serie = fill(-1.0, nc1)  # tudo negativo: resistência nula\n",
    "segmento_falha = 1\n",
    "aterrar_receptor = [false, true]\n",
    "vout_t = simular_cabo(yn_segmentos, R_curto, R_chave, R_emissor_shunt,\n",
    "                      R_falha_shunt, R_falha_serie, segmento_falha,\n",
    "                      pares_falhas, terminal_fonte, fases, blindagens,\n",
    "                      armadura, v_fonte_t, tempo_abre, aterrar_receptor)\n",
    "arquivo_resultados = \"teste/falha_ambas_falhas_t$(terminal_fonte).csv\"\n",
    "salvar_resultados(arquivo_resultados, vout_t, v_fonte_t, tempo, tempo_abre,\n",
    "                  comprimentos, segmento_falha, pares_falhas, terminal_fonte,\n",
    "                  R_emissor_shunt, R_falha_serie, R_falha_shunt, R_chave,\n",
    "                  nt_trunc, nome_condutores, aterrar_receptor)"
   ]
  }
 ],
 "metadata": {
  "kernelspec": {
   "display_name": "Julia 1.10.0",
   "language": "julia",
   "name": "julia-1.10"
  },
  "language_info": {
   "file_extension": ".jl",
   "mimetype": "application/julia",
   "name": "julia",
   "version": "1.10.0"
  },
  "orig_nbformat": 4
 },
 "nbformat": 4,
 "nbformat_minor": 2
}
